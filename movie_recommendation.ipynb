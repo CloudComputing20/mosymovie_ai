{
  "nbformat": 4,
  "nbformat_minor": 0,
  "metadata": {
    "colab": {
      "provenance": []
    },
    "kernelspec": {
      "name": "python3",
      "display_name": "Python 3"
    },
    "language_info": {
      "name": "python"
    }
  },
  "cells": [
    {
      "cell_type": "code",
      "execution_count": 1,
      "metadata": {
        "colab": {
          "base_uri": "https://localhost:8080/"
        },
        "id": "feVPHa9g3fuD",
        "outputId": "ab026581-c57d-429b-f0f0-61a0953cc957"
      },
      "outputs": [
        {
          "output_type": "stream",
          "name": "stdout",
          "text": [
            "Looking in indexes: https://pypi.org/simple, https://us-python.pkg.dev/colab-wheels/public/simple/\n",
            "Collecting surprise\n",
            "  Downloading surprise-0.1-py2.py3-none-any.whl (1.8 kB)\n",
            "Collecting scikit-surprise (from surprise)\n",
            "  Downloading scikit-surprise-1.1.3.tar.gz (771 kB)\n",
            "\u001b[2K     \u001b[90m━━━━━━━━━━━━━━━━━━━━━━━━━━━━━━━━━━━━━━\u001b[0m \u001b[32m772.0/772.0 kB\u001b[0m \u001b[31m17.8 MB/s\u001b[0m eta \u001b[36m0:00:00\u001b[0m\n",
            "\u001b[?25h  Preparing metadata (setup.py) ... \u001b[?25l\u001b[?25hdone\n",
            "Requirement already satisfied: joblib>=1.0.0 in /usr/local/lib/python3.10/dist-packages (from scikit-surprise->surprise) (1.2.0)\n",
            "Requirement already satisfied: numpy>=1.17.3 in /usr/local/lib/python3.10/dist-packages (from scikit-surprise->surprise) (1.22.4)\n",
            "Requirement already satisfied: scipy>=1.3.2 in /usr/local/lib/python3.10/dist-packages (from scikit-surprise->surprise) (1.10.1)\n",
            "Building wheels for collected packages: scikit-surprise\n",
            "  Building wheel for scikit-surprise (setup.py) ... \u001b[?25l\u001b[?25hdone\n",
            "  Created wheel for scikit-surprise: filename=scikit_surprise-1.1.3-cp310-cp310-linux_x86_64.whl size=3095477 sha256=19d9d12a79f29012ffd220ff98804d374cf8f448b1976ecd17ebc51fb5c43122\n",
            "  Stored in directory: /root/.cache/pip/wheels/a5/ca/a8/4e28def53797fdc4363ca4af740db15a9c2f1595ebc51fb445\n",
            "Successfully built scikit-surprise\n",
            "Installing collected packages: scikit-surprise, surprise\n",
            "Successfully installed scikit-surprise-1.1.3 surprise-0.1\n"
          ]
        }
      ],
      "source": [
        "!pip install surprise"
      ]
    },
    {
      "cell_type": "code",
      "source": [
        "import pandas as pd\n",
        "from surprise import Reader, Dataset, SVD\n",
        "import ast\n",
        "\n",
        "user_data = pd.read_csv('userdata.csv')\n",
        "movie_data = pd.read_csv('moviedata.csv')\n",
        "\n",
        "with open('input.txt') as f:\n",
        "    movie_name, movie_genre = f.read().strip().split('|')\n",
        "\n",
        "max_movie_id = movie_data['movieId'].max()\n",
        "new_movie_id = max_movie_id + 1\n",
        "movie_data.loc[max_movie_id] = [new_movie_id, movie_name, movie_genre]\n",
        "\n",
        "reader = Reader(rating_scale=(1, 5))\n",
        "\n",
        "data = Dataset.load_from_df(user_data[['userId', 'movieId', 'rating']], reader)\n",
        "\n",
        "trainset = data.build_full_trainset()\n",
        "algo = SVD(n_factors=100, n_epochs=20, random_state=42)\n",
        "algo.fit(trainset)\n",
        "\n",
        "movie_id = movie_data[movie_data['title'] == movie_name]['movieId'].iloc[0]\n",
        "prediction = model.predict(uid=None, iid=movie_id, r_ui=None, verbose=False)\n",
        "\n",
        "user_list = []\n",
        "for user_id in user_data['userId'].unique():\n",
        "    user_ratings = user_data[user_data['userId'] == user_id]\n",
        "    user_movies = set(user_ratings['movieId'])\n",
        "    if movie_id not in user_movies:\n",
        "        est_rating = model.predict(uid=user_id, iid=movie_id, r_ui=None, verbose=False).est\n",
        "        if est_rating > 4:\n",
        "            user_list.append(user_id)\n",
        "\n",
        "print(user_list)"
      ],
      "metadata": {
        "id": "pSvpu0nB3wEw"
      },
      "execution_count": null,
      "outputs": []
    }
  ]
}